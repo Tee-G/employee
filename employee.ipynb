{
 "cells": [
  {
   "cell_type": "code",
   "execution_count": 1,
   "id": "a40906f7-580a-485f-a49a-5d26482049bc",
   "metadata": {},
   "outputs": [
    {
     "name": "stdout",
     "output_type": "stream",
     "text": [
      "       satisfaction_level  last_evaluation  number_project  \\\n",
      "0                    0.38             0.53               2   \n",
      "1                    0.80             0.86               5   \n",
      "2                    0.11             0.88               7   \n",
      "3                    0.72             0.87               5   \n",
      "4                    0.37             0.52               2   \n",
      "...                   ...              ...             ...   \n",
      "14994                0.40             0.57               2   \n",
      "14995                0.37             0.48               2   \n",
      "14996                0.37             0.53               2   \n",
      "14997                0.11             0.96               6   \n",
      "14998                0.37             0.52               2   \n",
      "\n",
      "       average_montly_hours  time_spend_company  Work_accident  left  \\\n",
      "0                       157                   3              0     1   \n",
      "1                       262                   6              0     1   \n",
      "2                       272                   4              0     1   \n",
      "3                       223                   5              0     1   \n",
      "4                       159                   3              0     1   \n",
      "...                     ...                 ...            ...   ...   \n",
      "14994                   151                   3              0     1   \n",
      "14995                   160                   3              0     1   \n",
      "14996                   143                   3              0     1   \n",
      "14997                   280                   4              0     1   \n",
      "14998                   158                   3              0     1   \n",
      "\n",
      "       promotion_last_5years    sales  salary  \n",
      "0                          0    sales     low  \n",
      "1                          0    sales  medium  \n",
      "2                          0    sales  medium  \n",
      "3                          0    sales     low  \n",
      "4                          0    sales     low  \n",
      "...                      ...      ...     ...  \n",
      "14994                      0  support     low  \n",
      "14995                      0  support     low  \n",
      "14996                      0  support     low  \n",
      "14997                      0  support     low  \n",
      "14998                      0  support     low  \n",
      "\n",
      "[14999 rows x 10 columns]\n",
      "Index(['satisfaction_level', 'last_evaluation', 'number_project',\n",
      "       'average_montly_hours', 'time_spend_company', 'Work_accident', 'left',\n",
      "       'promotion_last_5years', 'sales', 'salary'],\n",
      "      dtype='object')\n"
     ]
    }
   ],
   "source": [
    "import pandas as pd \n",
    "import numpy as np\n",
    "import matplotlib.pyplot as plt\n",
    "%matplotlib inline\n",
    "import seaborn as sns\n",
    "data=pd.read_csv(r\"C:\\Users\\User\\Documents\\HR_comma_sep.csv\")\n",
    "f=pd.DataFrame(data)\n",
    "t=f.replace(np.nan, 0)\n",
    "print(t)\n",
    "print(t.columns)"
   ]
  },
  {
   "cell_type": "code",
   "execution_count": null,
   "id": "dc947789-00ba-4bb0-93c0-63d34fe37d04",
   "metadata": {},
   "outputs": [],
   "source": []
  },
  {
   "cell_type": "code",
   "execution_count": 49,
   "id": "0865192e-783e-4b21-8175-ad6e57b1a9c1",
   "metadata": {},
   "outputs": [
    {
     "name": "stdout",
     "output_type": "stream",
     "text": [
      "2172\n"
     ]
    }
   ],
   "source": [
    "u=t.loc[t[\"left\"]==1]\n",
    "z=u[\"salary\"][u[\"salary\"]==0]\n",
    "print(z.count())"
   ]
  },
  {
   "cell_type": "code",
   "execution_count": null,
   "id": "bd157ca1-c5ab-4e3d-95b1-c18076366543",
   "metadata": {},
   "outputs": [],
   "source": []
  },
  {
   "cell_type": "code",
   "execution_count": 43,
   "id": "d937829f-620c-4077-bb5b-81d148d467f2",
   "metadata": {},
   "outputs": [
    {
     "name": "stdout",
     "output_type": "stream",
     "text": [
      "low       7316\n",
      "medium    6446\n",
      "high      1237\n",
      "Name: salary, dtype: int64\n"
     ]
    }
   ],
   "source": [
    "print(t[\"salary\"].value_counts())"
   ]
  },
  {
   "cell_type": "code",
   "execution_count": null,
   "id": "ba4294dc-5fa3-4c76-91d3-cc268dc5cec1",
   "metadata": {},
   "outputs": [],
   "source": []
  },
  {
   "cell_type": "code",
   "execution_count": 3,
   "id": "75a5dff2-c1da-419e-9448-4b7b4356e0bc",
   "metadata": {},
   "outputs": [
    {
     "name": "stdout",
     "output_type": "stream",
     "text": [
      "0        0\n",
      "1        1\n",
      "2        1\n",
      "3        0\n",
      "4        0\n",
      "        ..\n",
      "14994    0\n",
      "14995    0\n",
      "14996    0\n",
      "14997    0\n",
      "14998    0\n",
      "Name: salary, Length: 14999, dtype: int64\n"
     ]
    }
   ],
   "source": [
    "t[\"salary\"]=t[\"salary\"].replace([\"low\",\"medium\",\"high\"],[0,1,2])\n",
    "print(t[\"salary\"])"
   ]
  },
  {
   "cell_type": "code",
   "execution_count": null,
   "id": "b63fe8ee-d3c6-4fc3-817c-f1aea6543991",
   "metadata": {},
   "outputs": [],
   "source": []
  },
  {
   "cell_type": "code",
   "execution_count": 11,
   "id": "30c911c0-5080-4ab7-b4b0-b8999f11bce9",
   "metadata": {},
   "outputs": [
    {
     "name": "stdout",
     "output_type": "stream",
     "text": [
      "(14999,)\n",
      "(14999,)\n",
      "0.7564444444444445\n"
     ]
    }
   ],
   "source": [
    "x=t[\"salary\"].values\n",
    "y=t[\"left\"].values\n",
    "\n",
    "print(x.shape)\n",
    "print(y.shape)\n",
    "\n",
    "from sklearn.model_selection import train_test_split \n",
    "x_train, x_test,y_train, y_test=train_test_split(x.reshape(-1,1), y,test_size=0.3)\n",
    "#print(x_test)\n",
    "#print(x_train)\n",
    "\n",
    "from sklearn.tree import DecisionTreeClassifier\n",
    "model=DecisionTreeClassifier()\n",
    "model.fit(x_train,y_train)\n",
    "q=model.predict(x_test)\n",
    "#print(q)\n",
    "print(model.score(x_test,y_test))\n"
   ]
  },
  {
   "cell_type": "code",
   "execution_count": null,
   "id": "55a00d88-77fb-43b1-84d9-dd13c8b3eb77",
   "metadata": {},
   "outputs": [],
   "source": []
  },
  {
   "cell_type": "code",
   "execution_count": 12,
   "id": "6cde85d5-1b99-4861-a15f-472da0057f53",
   "metadata": {},
   "outputs": [
    {
     "name": "stdout",
     "output_type": "stream",
     "text": [
      "[[3404    0]\n",
      " [1096    0]]\n"
     ]
    }
   ],
   "source": [
    "from sklearn.metrics import confusion_matrix\n",
    "\n",
    "print(confusion_matrix(y_test,q))"
   ]
  },
  {
   "cell_type": "code",
   "execution_count": 13,
   "id": "16c4551c-b461-4a1c-8b24-f72b9194c2c2",
   "metadata": {},
   "outputs": [
    {
     "name": "stdout",
     "output_type": "stream",
     "text": [
      "[[0.79613357 0.20386643]\n",
      " [0.92824074 0.07175926]\n",
      " [0.7078497  0.2921503 ]\n",
      " ...\n",
      " [0.7078497  0.2921503 ]\n",
      " [0.79613357 0.20386643]\n",
      " [0.79613357 0.20386643]]\n"
     ]
    }
   ],
   "source": [
    "print(model.predict_proba(x_test))"
   ]
  },
  {
   "cell_type": "code",
   "execution_count": 14,
   "id": "39b577c9-fccc-49b7-8661-2088c82598fe",
   "metadata": {},
   "outputs": [
    {
     "name": "stdout",
     "output_type": "stream",
     "text": [
      "0.7564444444444445\n"
     ]
    }
   ],
   "source": [
    "from sklearn import metrics\n",
    "print(metrics.accuracy_score(y_test,q))"
   ]
  },
  {
   "cell_type": "code",
   "execution_count": null,
   "id": "7d2fca75-742c-4e74-855a-d112452c012b",
   "metadata": {},
   "outputs": [],
   "source": []
  }
 ],
 "metadata": {
  "kernelspec": {
   "display_name": "Python 3 (ipykernel)",
   "language": "python",
   "name": "python3"
  },
  "language_info": {
   "codemirror_mode": {
    "name": "ipython",
    "version": 3
   },
   "file_extension": ".py",
   "mimetype": "text/x-python",
   "name": "python",
   "nbconvert_exporter": "python",
   "pygments_lexer": "ipython3",
   "version": "3.9.12"
  }
 },
 "nbformat": 4,
 "nbformat_minor": 5
}
